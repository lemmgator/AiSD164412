{
  "nbformat": 4,
  "nbformat_minor": 0,
  "metadata": {
    "colab": {
      "provenance": [],
      "authorship_tag": "ABX9TyNw1XLghmK4p2SSDkKQcHT1",
      "include_colab_link": true
    },
    "kernelspec": {
      "name": "python3",
      "display_name": "Python 3"
    },
    "language_info": {
      "name": "python"
    }
  },
  "cells": [
    {
      "cell_type": "markdown",
      "metadata": {
        "id": "view-in-github",
        "colab_type": "text"
      },
      "source": [
        "<a href=\"https://colab.research.google.com/github/lemmgator/AiSD164412/blob/main/kolokwium2/BinarySearchTree.ipynb\" target=\"_parent\"><img src=\"https://colab.research.google.com/assets/colab-badge.svg\" alt=\"Open In Colab\"/></a>"
      ]
    },
    {
      "cell_type": "code",
      "execution_count": null,
      "metadata": {
        "id": "hjcsOKBJkFyz"
      },
      "outputs": [],
      "source": [
        "from typing import Any, List\n",
        "from graphviz import Digraph\n",
        "import matplotlib.image as mpimg\n",
        "import matplotlib.pyplot as plt"
      ]
    },
    {
      "cell_type": "markdown",
      "source": [
        "# BinaryNode"
      ],
      "metadata": {
        "id": "GGAKkB9pk0Hw"
      }
    },
    {
      "cell_type": "code",
      "source": [
        "class BinaryNode:\n",
        "    value: Any\n",
        "    left_child: 'BinaryNode'\n",
        "    right_child: 'BinaryNode'\n",
        "\n",
        "    def __init__(self, value: Any) -> None:\n",
        "        self.value = value\n",
        "        self.left_child = None\n",
        "        self.right_child = None\n",
        "\n",
        "    def min(self) -> 'BinaryNode':\n",
        "        if self.left_child:\n",
        "            return self.left_child.min()\n",
        "        return self\n",
        "\n",
        "    def __str__(self) -> str:\n",
        "        return str(self.value)"
      ],
      "metadata": {
        "id": "wZtPeKVofztb"
      },
      "execution_count": null,
      "outputs": []
    },
    {
      "cell_type": "markdown",
      "source": [
        "# BinarySearchTree"
      ],
      "metadata": {
        "id": "5q7e2CvakwIU"
      }
    },
    {
      "cell_type": "code",
      "source": [
        "class BinarySearchTree:\n",
        "    root: BinaryNode\n",
        "\n",
        "    def __init__(self, root) -> None:\n",
        "        self.root = root\n",
        "\n",
        "    def insert(self, value: Any) -> None:\n",
        "        if self.contains(value):\n",
        "            return\n",
        "        self.root = self.__insert(self.root, value)\n",
        "\n",
        "    def __insert(self, node: BinaryNode, value: Any) -> BinaryNode:\n",
        "        if node:\n",
        "            if value < node.value:\n",
        "                node.left_child = self.__insert(node.left_child, value)\n",
        "            else:\n",
        "                node.right_child = self.__insert(node.right_child, value)\n",
        "        else:\n",
        "            node = BinaryNode(value)\n",
        "        return node\n",
        "\n",
        "    def insert_list(self, list_: List[Any]) -> None:\n",
        "        for i in list_:\n",
        "            self.insert(i)\n",
        "\n",
        "    def contains(self, value: Any) -> bool:\n",
        "        temp = self.root\n",
        "        while temp:\n",
        "            if value == temp.value:\n",
        "                return True\n",
        "            if value < temp.value:\n",
        "                temp = temp.left_child\n",
        "            else:\n",
        "                temp = temp.right_child\n",
        "        return False\n",
        "\n",
        "    def remove(self, value: Any) -> None:\n",
        "        if self.contains(value):\n",
        "            self.root = self.__remove(self.root, value)\n",
        "\n",
        "    def __remove(self, node: BinaryNode, value: Any) -> BinaryNode:\n",
        "        if value == node.value:\n",
        "            if node.left_child and node.right_child:\n",
        "                node.value = node.right_child.min().value\n",
        "                node.right_child = self.__remove(\n",
        "                    node.right_child, node.right_child.min().value)\n",
        "            elif node.left_child:\n",
        "                node = node.left_child\n",
        "            elif node.right_child:\n",
        "                node = node.right_child\n",
        "            else:\n",
        "                if node == self.root:\n",
        "                    node.value = 0\n",
        "                else:\n",
        "                    node = None\n",
        "        elif value < node.value:\n",
        "            node.left_child = self.__remove(node.left_child, value)\n",
        "        else:\n",
        "            node.right_child = self.__remove(node.right_child, value)\n",
        "        return node\n",
        "\n",
        "    def show(self, g=Digraph('g')) -> None:\n",
        "        q = [self.root]\n",
        "        while q:\n",
        "            g.node(str(q[0]), str(q[0]), shape='circle')\n",
        "            if q[0].left_child:\n",
        "                g.edge(str(q[0]), str(q[0].left_child), color='red')\n",
        "                q.append(q[0].left_child)\n",
        "            if q[0].right_child:\n",
        "                g.edge(str(q[0]), str(q[0].right_child), color='blue')\n",
        "                q.append(q[0].right_child)\n",
        "            q.pop(0)\n",
        "        g.render(filename='bst', format='png', cleanup=True, view=True)\n",
        "        plt.imshow(mpimg.imread('bst.png'))\n",
        "        plt.axis('off')"
      ],
      "metadata": {
        "id": "tshR39KUf8yh"
      },
      "execution_count": null,
      "outputs": []
    },
    {
      "cell_type": "code",
      "source": [
        "def main() -> None:\n",
        "    # inicjalizacja drzewa\n",
        "    drzewo = BinarySearchTree(BinaryNode(8))\n",
        "\n",
        "    # min() przed dodaniem\n",
        "    print(drzewo.root.min())\n",
        "\n",
        "    # dodawanie elementow z listy\n",
        "    drzewo.insert_list([3, 10, 14, 6, 7, 1, 4, 13, 2, 5, 9, 15])\n",
        "\n",
        "    # min() po dodaniu\n",
        "    print(drzewo.root.min())\n",
        "\n",
        "    # czy zawiera 1 (True)\n",
        "    print(drzewo.contains(1))\n",
        "\n",
        "    # czy zawiera 15 (True)\n",
        "    print(drzewo.contains(15))\n",
        "\n",
        "    # usuwanie 2, 5, 9, 15\n",
        "    drzewo.remove(2)\n",
        "    drzewo.remove(5)\n",
        "    drzewo.remove(9)\n",
        "    drzewo.remove(15)\n",
        "\n",
        "    # czy zawiera 15 (False)\n",
        "    print(drzewo.contains(15))\n",
        "\n",
        "    # renderowanie drzewa\n",
        "    drzewo.show()"
      ],
      "metadata": {
        "id": "yCv_Ig4Af8EK"
      },
      "execution_count": null,
      "outputs": []
    },
    {
      "cell_type": "code",
      "source": [
        "main()"
      ],
      "metadata": {
        "colab": {
          "base_uri": "https://localhost:8080/",
          "height": 335
        },
        "id": "d-V72RkqgJCy",
        "outputId": "4d689c63-4574-4b70-c843-79504b7541e7"
      },
      "execution_count": null,
      "outputs": [
        {
          "output_type": "stream",
          "name": "stdout",
          "text": [
            "8\n",
            "1\n",
            "True\n",
            "True\n",
            "False\n"
          ]
        },
        {
          "output_type": "display_data",
          "data": {
            "text/plain": [
              "<Figure size 432x288 with 1 Axes>"
            ],
            "image/png": "[encoded data removed]"
          },
          "metadata": {
            "needs_background": "light"
          }
        }
      ]
    }
  ]
}
